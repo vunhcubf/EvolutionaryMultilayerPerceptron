{
 "cells": [
  {
   "cell_type": "code",
   "execution_count": null,
   "metadata": {},
   "outputs": [],
   "source": [
    "import pandas as pd\n",
    "import numpy as np\n",
    "import pickle\n",
    "import sys\n",
    "sys.path.append(\"D:\\EvolutionaryMultilayerPerceptron\") #加载emlp库\n",
    "import EvolutionaryMultilayerPerceptron_Rebuild\n",
    "\n",
    "# 首先加载训练集\n",
    "# 训练集自变量x为n行d列的np数组，d为维度数，n为训练集条目数\n",
    "# 训练集因变量为n行1列的np数组\n",
    "# 训练的所有参数放在一个字典中\n",
    "\n",
    "config={}\n",
    "config['X']=X # 训练集自变量\n",
    "config['Y']=Y # 训练集因变量\n",
    "config['TrainDataPercentage']=0.9 # 训练集占比,设置为1则不启用验证检查\n",
    "config['PenaltyCoefficient']=[0.33,1] # 惩罚项系数\n",
    "config['PopSize']=30 # nsga2种群数\n",
    "config['ActivateFunction']='Tanh' # 激活函数,或者写成这样的形式['Tanh','Sigmoid','Relu]\n",
    "config['MaxIteration']=30 # nsga2最大代数\n",
    "config['LowerBound']=[20,10,5,0] # 网络神经元数下界\n",
    "config['UpperBound']=[30,20,10,5] # 网络神经元数上界\n",
    "config['Precision']=1e-5 # 网络目标精度，达到则停止\n",
    "config['Epochs']=200000 # 训练轮次\n",
    "config['MaxValidationCheck']=6 # 最大验证检查失败次数，超过就终止训练 \n",
    "config['MaxLearningRate']=0.1 # 可变学习率中的最大学习率\n",
    "config['MinLearningRate']=0.01 # 可变学习率中的最小学习率\n",
    "config['PercentageErrorBias']=1e-5 # 百分比误差偏移，修正百分比误差过大\n",
    "\n",
    "config['UsePCA']=True # 主成分分析\n",
    "config['ExplainedVarianceRatio']=0.95 #主成分分析的方差解释比\n",
    "\n",
    "Trainer=EvolutionaryMultilayerPerceptron_Rebuild.EmlpTrainer(config) # 训练类\n",
    "Trainer.Train() # 训练\n",
    "Result=Trainer.GetTrainResult() # 返回训练结果\n",
    "Trainer.DrawParetoSet() # 绘制当前训练的帕累托解集"
   ]
  },
  {
   "cell_type": "code",
   "execution_count": null,
   "metadata": {},
   "outputs": [],
   "source": [
    "Handler=EvolutionaryMultilayerPerceptron_Rebuild.EmlpResultHandler(Result)\n",
    "Handler.PrintModel() # 用文字打印帕累托解集\n",
    "Handler.DrawParetoSet() # 绘制佩雷托解集\n",
    "Handler.DrawPercentageErrorHistogram() # 绘制百分比绝对值误差直方图\n",
    "Handler.DrawErrorHistogram() # 绘制绝对值误差直方图\n",
    "Y=Handler.PredictModel(Topo,X) # Topo为选用的网络拓扑结构，列表，X为要训练的自变量，返回np数组"
   ]
  }
 ],
 "metadata": {
  "kernelspec": {
   "display_name": "base",
   "language": "python",
   "name": "python3"
  },
  "language_info": {
   "codemirror_mode": {
    "name": "ipython",
    "version": 3
   },
   "file_extension": ".py",
   "mimetype": "text/x-python",
   "name": "python",
   "nbconvert_exporter": "python",
   "pygments_lexer": "ipython3",
   "version": "3.11.3"
  }
 },
 "nbformat": 4,
 "nbformat_minor": 2
}
